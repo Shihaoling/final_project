{
 "cells": [
  {
   "cell_type": "code",
   "execution_count": 1,
   "metadata": {},
   "outputs": [],
   "source": [
    "import pandas as pd\n",
    "import numpy as np\n",
    "\n",
    "# Read and clean the data, Because the data is announced by the official, we do not consider the outliers.\n",
    "regular = pd.read_csv('2021-2022 NBA Player Stats - Regular.csv',delimiter=\";\", encoding=\"latin-1\", index_col=0)\n"
   ]
  },
  {
   "cell_type": "code",
   "execution_count": 67,
   "metadata": {},
   "outputs": [],
   "source": [
    "advanced = pd.read_excel('2021-2022advanced.xlsx',index_col=0)\n",
    "advanced['TS%'].fillna(advanced['TS%'].mean(),inplace=True)\n",
    "advanced['3PAr'].fillna(advanced['3PAr'].mean(),inplace=True)\n",
    "advanced['FTr'].fillna(advanced['FTr'].mean(),inplace=True)\n",
    "advanced['TOV%'].fillna(advanced['TOV%'].mean(),inplace=True)"
   ]
  },
  {
   "cell_type": "code",
   "execution_count": 161,
   "metadata": {},
   "outputs": [
    {
     "data": {
      "text/plain": [
       "'ABCDfdfSadsa'"
      ]
     },
     "execution_count": 161,
     "metadata": {},
     "output_type": "execute_result"
    }
   ],
   "source": [
    "word = ''\n",
    "separate_search_name = 'a b c dfdf sadsa'.split()\n",
    "for i in separate_search_name:\n",
    "    word = word + i.capitalize()\n",
    "word"
   ]
  },
  {
   "cell_type": "code",
   "execution_count": 72,
   "metadata": {},
   "outputs": [
    {
     "data": {
      "text/html": [
       "<div>\n",
       "<style scoped>\n",
       "    .dataframe tbody tr th:only-of-type {\n",
       "        vertical-align: middle;\n",
       "    }\n",
       "\n",
       "    .dataframe tbody tr th {\n",
       "        vertical-align: top;\n",
       "    }\n",
       "\n",
       "    .dataframe thead th {\n",
       "        text-align: right;\n",
       "    }\n",
       "</style>\n",
       "<table border=\"1\" class=\"dataframe\">\n",
       "  <thead>\n",
       "    <tr style=\"text-align: right;\">\n",
       "      <th></th>\n",
       "      <th>Player</th>\n",
       "      <th>Pos</th>\n",
       "      <th>Age</th>\n",
       "      <th>Tm</th>\n",
       "      <th>G</th>\n",
       "      <th>MP</th>\n",
       "      <th>PG%</th>\n",
       "      <th>SG%</th>\n",
       "      <th>SF%</th>\n",
       "      <th>PF%</th>\n",
       "      <th>...</th>\n",
       "      <th>On-Off</th>\n",
       "      <th>BadPass</th>\n",
       "      <th>LostBall</th>\n",
       "      <th>Shoot</th>\n",
       "      <th>Off.</th>\n",
       "      <th>Shoot.1</th>\n",
       "      <th>Off..1</th>\n",
       "      <th>PGA</th>\n",
       "      <th>And1</th>\n",
       "      <th>Blkd</th>\n",
       "    </tr>\n",
       "    <tr>\n",
       "      <th>Rk</th>\n",
       "      <th></th>\n",
       "      <th></th>\n",
       "      <th></th>\n",
       "      <th></th>\n",
       "      <th></th>\n",
       "      <th></th>\n",
       "      <th></th>\n",
       "      <th></th>\n",
       "      <th></th>\n",
       "      <th></th>\n",
       "      <th></th>\n",
       "      <th></th>\n",
       "      <th></th>\n",
       "      <th></th>\n",
       "      <th></th>\n",
       "      <th></th>\n",
       "      <th></th>\n",
       "      <th></th>\n",
       "      <th></th>\n",
       "      <th></th>\n",
       "      <th></th>\n",
       "    </tr>\n",
       "  </thead>\n",
       "  <tbody>\n",
       "    <tr>\n",
       "      <th>1</th>\n",
       "      <td>Precious Achiuwa</td>\n",
       "      <td>C</td>\n",
       "      <td>22</td>\n",
       "      <td>TOR</td>\n",
       "      <td>73</td>\n",
       "      <td>1725</td>\n",
       "      <td>NaN</td>\n",
       "      <td>NaN</td>\n",
       "      <td>NaN</td>\n",
       "      <td>0.02</td>\n",
       "      <td>...</td>\n",
       "      <td>0.0</td>\n",
       "      <td>19</td>\n",
       "      <td>26</td>\n",
       "      <td>70</td>\n",
       "      <td>24</td>\n",
       "      <td>64</td>\n",
       "      <td>10</td>\n",
       "      <td>200</td>\n",
       "      <td>15</td>\n",
       "      <td>51</td>\n",
       "    </tr>\n",
       "    <tr>\n",
       "      <th>2</th>\n",
       "      <td>Steven Adams</td>\n",
       "      <td>C</td>\n",
       "      <td>28</td>\n",
       "      <td>MEM</td>\n",
       "      <td>76</td>\n",
       "      <td>1999</td>\n",
       "      <td>NaN</td>\n",
       "      <td>NaN</td>\n",
       "      <td>NaN</td>\n",
       "      <td>NaN</td>\n",
       "      <td>...</td>\n",
       "      <td>4.2</td>\n",
       "      <td>71</td>\n",
       "      <td>15</td>\n",
       "      <td>78</td>\n",
       "      <td>19</td>\n",
       "      <td>83</td>\n",
       "      <td>13</td>\n",
       "      <td>569</td>\n",
       "      <td>23</td>\n",
       "      <td>44</td>\n",
       "    </tr>\n",
       "    <tr>\n",
       "      <th>3</th>\n",
       "      <td>Bam Adebayo</td>\n",
       "      <td>C</td>\n",
       "      <td>24</td>\n",
       "      <td>MIA</td>\n",
       "      <td>56</td>\n",
       "      <td>1825</td>\n",
       "      <td>NaN</td>\n",
       "      <td>NaN</td>\n",
       "      <td>NaN</td>\n",
       "      <td>0.02</td>\n",
       "      <td>...</td>\n",
       "      <td>5.5</td>\n",
       "      <td>59</td>\n",
       "      <td>39</td>\n",
       "      <td>72</td>\n",
       "      <td>38</td>\n",
       "      <td>173</td>\n",
       "      <td>8</td>\n",
       "      <td>480</td>\n",
       "      <td>48</td>\n",
       "      <td>40</td>\n",
       "    </tr>\n",
       "    <tr>\n",
       "      <th>4</th>\n",
       "      <td>Santi Aldama</td>\n",
       "      <td>PF</td>\n",
       "      <td>21</td>\n",
       "      <td>MEM</td>\n",
       "      <td>32</td>\n",
       "      <td>360</td>\n",
       "      <td>NaN</td>\n",
       "      <td>NaN</td>\n",
       "      <td>0.03</td>\n",
       "      <td>0.49</td>\n",
       "      <td>...</td>\n",
       "      <td>-3.8</td>\n",
       "      <td>7</td>\n",
       "      <td>3</td>\n",
       "      <td>16</td>\n",
       "      <td>5</td>\n",
       "      <td>16</td>\n",
       "      <td>1</td>\n",
       "      <td>58</td>\n",
       "      <td>5</td>\n",
       "      <td>5</td>\n",
       "    </tr>\n",
       "    <tr>\n",
       "      <th>5</th>\n",
       "      <td>LaMarcus Aldridge</td>\n",
       "      <td>C</td>\n",
       "      <td>36</td>\n",
       "      <td>BRK</td>\n",
       "      <td>47</td>\n",
       "      <td>1050</td>\n",
       "      <td>NaN</td>\n",
       "      <td>NaN</td>\n",
       "      <td>NaN</td>\n",
       "      <td>NaN</td>\n",
       "      <td>...</td>\n",
       "      <td>0.1</td>\n",
       "      <td>12</td>\n",
       "      <td>11</td>\n",
       "      <td>46</td>\n",
       "      <td>12</td>\n",
       "      <td>56</td>\n",
       "      <td>0</td>\n",
       "      <td>110</td>\n",
       "      <td>22</td>\n",
       "      <td>11</td>\n",
       "    </tr>\n",
       "    <tr>\n",
       "      <th>...</th>\n",
       "      <td>...</td>\n",
       "      <td>...</td>\n",
       "      <td>...</td>\n",
       "      <td>...</td>\n",
       "      <td>...</td>\n",
       "      <td>...</td>\n",
       "      <td>...</td>\n",
       "      <td>...</td>\n",
       "      <td>...</td>\n",
       "      <td>...</td>\n",
       "      <td>...</td>\n",
       "      <td>...</td>\n",
       "      <td>...</td>\n",
       "      <td>...</td>\n",
       "      <td>...</td>\n",
       "      <td>...</td>\n",
       "      <td>...</td>\n",
       "      <td>...</td>\n",
       "      <td>...</td>\n",
       "      <td>...</td>\n",
       "      <td>...</td>\n",
       "    </tr>\n",
       "    <tr>\n",
       "      <th>601</th>\n",
       "      <td>Thaddeus Young</td>\n",
       "      <td>PF</td>\n",
       "      <td>33</td>\n",
       "      <td>TOR</td>\n",
       "      <td>26</td>\n",
       "      <td>475</td>\n",
       "      <td>NaN</td>\n",
       "      <td>0.18</td>\n",
       "      <td>0.59</td>\n",
       "      <td>0.22</td>\n",
       "      <td>...</td>\n",
       "      <td>4.4</td>\n",
       "      <td>14</td>\n",
       "      <td>7</td>\n",
       "      <td>27</td>\n",
       "      <td>1</td>\n",
       "      <td>16</td>\n",
       "      <td>7</td>\n",
       "      <td>107</td>\n",
       "      <td>5</td>\n",
       "      <td>11</td>\n",
       "    </tr>\n",
       "    <tr>\n",
       "      <th>602</th>\n",
       "      <td>Trae Young</td>\n",
       "      <td>PG</td>\n",
       "      <td>23</td>\n",
       "      <td>ATL</td>\n",
       "      <td>76</td>\n",
       "      <td>2652</td>\n",
       "      <td>1.0</td>\n",
       "      <td>NaN</td>\n",
       "      <td>NaN</td>\n",
       "      <td>NaN</td>\n",
       "      <td>...</td>\n",
       "      <td>3.4</td>\n",
       "      <td>221</td>\n",
       "      <td>54</td>\n",
       "      <td>47</td>\n",
       "      <td>9</td>\n",
       "      <td>151</td>\n",
       "      <td>28</td>\n",
       "      <td>1709</td>\n",
       "      <td>32</td>\n",
       "      <td>93</td>\n",
       "    </tr>\n",
       "    <tr>\n",
       "      <th>603</th>\n",
       "      <td>Omer Yurtseven</td>\n",
       "      <td>C</td>\n",
       "      <td>23</td>\n",
       "      <td>MIA</td>\n",
       "      <td>56</td>\n",
       "      <td>706</td>\n",
       "      <td>NaN</td>\n",
       "      <td>NaN</td>\n",
       "      <td>NaN</td>\n",
       "      <td>NaN</td>\n",
       "      <td>...</td>\n",
       "      <td>0.3</td>\n",
       "      <td>13</td>\n",
       "      <td>11</td>\n",
       "      <td>52</td>\n",
       "      <td>12</td>\n",
       "      <td>31</td>\n",
       "      <td>4</td>\n",
       "      <td>121</td>\n",
       "      <td>9</td>\n",
       "      <td>18</td>\n",
       "    </tr>\n",
       "    <tr>\n",
       "      <th>604</th>\n",
       "      <td>Cody Zeller</td>\n",
       "      <td>C</td>\n",
       "      <td>29</td>\n",
       "      <td>POR</td>\n",
       "      <td>27</td>\n",
       "      <td>355</td>\n",
       "      <td>NaN</td>\n",
       "      <td>NaN</td>\n",
       "      <td>NaN</td>\n",
       "      <td>NaN</td>\n",
       "      <td>...</td>\n",
       "      <td>6.8</td>\n",
       "      <td>5</td>\n",
       "      <td>3</td>\n",
       "      <td>19</td>\n",
       "      <td>8</td>\n",
       "      <td>17</td>\n",
       "      <td>4</td>\n",
       "      <td>56</td>\n",
       "      <td>1</td>\n",
       "      <td>14</td>\n",
       "    </tr>\n",
       "    <tr>\n",
       "      <th>605</th>\n",
       "      <td>Ivica Zubac</td>\n",
       "      <td>C</td>\n",
       "      <td>24</td>\n",
       "      <td>LAC</td>\n",
       "      <td>76</td>\n",
       "      <td>1852</td>\n",
       "      <td>NaN</td>\n",
       "      <td>NaN</td>\n",
       "      <td>NaN</td>\n",
       "      <td>NaN</td>\n",
       "      <td>...</td>\n",
       "      <td>-6.8</td>\n",
       "      <td>36</td>\n",
       "      <td>39</td>\n",
       "      <td>126</td>\n",
       "      <td>23</td>\n",
       "      <td>98</td>\n",
       "      <td>6</td>\n",
       "      <td>288</td>\n",
       "      <td>15</td>\n",
       "      <td>43</td>\n",
       "    </tr>\n",
       "  </tbody>\n",
       "</table>\n",
       "<p>812 rows × 22 columns</p>\n",
       "</div>"
      ],
      "text/plain": [
       "                Player Pos  Age   Tm   G    MP  PG%   SG%   SF%   PF%  ...  \\\n",
       "Rk                                                                     ...   \n",
       "1     Precious Achiuwa   C   22  TOR  73  1725  NaN   NaN   NaN  0.02  ...   \n",
       "2         Steven Adams   C   28  MEM  76  1999  NaN   NaN   NaN   NaN  ...   \n",
       "3          Bam Adebayo   C   24  MIA  56  1825  NaN   NaN   NaN  0.02  ...   \n",
       "4         Santi Aldama  PF   21  MEM  32   360  NaN   NaN  0.03  0.49  ...   \n",
       "5    LaMarcus Aldridge   C   36  BRK  47  1050  NaN   NaN   NaN   NaN  ...   \n",
       "..                 ...  ..  ...  ...  ..   ...  ...   ...   ...   ...  ...   \n",
       "601     Thaddeus Young  PF   33  TOR  26   475  NaN  0.18  0.59  0.22  ...   \n",
       "602         Trae Young  PG   23  ATL  76  2652  1.0   NaN   NaN   NaN  ...   \n",
       "603     Omer Yurtseven   C   23  MIA  56   706  NaN   NaN   NaN   NaN  ...   \n",
       "604        Cody Zeller   C   29  POR  27   355  NaN   NaN   NaN   NaN  ...   \n",
       "605        Ivica Zubac   C   24  LAC  76  1852  NaN   NaN   NaN   NaN  ...   \n",
       "\n",
       "     On-Off  BadPass  LostBall  Shoot  Off.  Shoot.1  Off..1   PGA  And1  Blkd  \n",
       "Rk                                                                              \n",
       "1       0.0       19        26     70    24       64      10   200    15    51  \n",
       "2       4.2       71        15     78    19       83      13   569    23    44  \n",
       "3       5.5       59        39     72    38      173       8   480    48    40  \n",
       "4      -3.8        7         3     16     5       16       1    58     5     5  \n",
       "5       0.1       12        11     46    12       56       0   110    22    11  \n",
       "..      ...      ...       ...    ...   ...      ...     ...   ...   ...   ...  \n",
       "601     4.4       14         7     27     1       16       7   107     5    11  \n",
       "602     3.4      221        54     47     9      151      28  1709    32    93  \n",
       "603     0.3       13        11     52    12       31       4   121     9    18  \n",
       "604     6.8        5         3     19     8       17       4    56     1    14  \n",
       "605    -6.8       36        39    126    23       98       6   288    15    43  \n",
       "\n",
       "[812 rows x 22 columns]"
      ]
     },
     "execution_count": 72,
     "metadata": {},
     "output_type": "execute_result"
    }
   ],
   "source": [
    "play_by_play = pd.read_excel(\"2021-2022play-by-play.xlsx\",index_col=0,header=1)\n",
    "play_by_play\n"
   ]
  },
  {
   "cell_type": "code",
   "execution_count": 3,
   "metadata": {},
   "outputs": [
    {
     "data": {
      "text/plain": [
       "0    2021-2022\n",
       "1    2020-2021\n",
       "2    2019-2020\n",
       "dtype: object"
      ]
     },
     "execution_count": 3,
     "metadata": {},
     "output_type": "execute_result"
    }
   ],
   "source": [
    "pd.Series([\"2021-2022\", '2020-2021', '2019-2020'])"
   ]
  },
  {
   "cell_type": "code",
   "execution_count": 149,
   "metadata": {},
   "outputs": [
    {
     "data": {
      "text/plain": [
       "'Precious Achiuwa'"
      ]
     },
     "execution_count": 149,
     "metadata": {},
     "output_type": "execute_result"
    }
   ],
   "source": [
    "import numpy as np\n",
    "letter_vector = [0]*26\n",
    "searched_name = 'Precious'\n",
    "for letter in searched_name.lower():\n",
    "    if ord(letter)<=96 or ord(letter)>= 123:\n",
    "        continue\n",
    "    position = ord(letter) - 96\n",
    "    if letter_vector[position-1] == 0:\n",
    "        letter_vector[position-1] = 1\n",
    "total_letter_vector = []\n",
    "for i in data['Player']:\n",
    "    vector = [0]*26\n",
    "    i = i.lower()\n",
    "    for j in i:\n",
    "        if ord(j) <= 96 or ord(j) >= 123:\n",
    "            continue\n",
    "        position = ord(j) - 96\n",
    "        if vector[position-1] == 0:\n",
    "            vector[position-1] = 1\n",
    "    total_letter_vector.append(vector)\n",
    "min = 100\n",
    "index = 0\n",
    "position = 0\n",
    "for i in total_letter_vector:\n",
    "    distance = np.linalg.norm(np.array(i) - np.array(letter_vector))\n",
    "    if distance < min:\n",
    "        min = distance\n",
    "        position = index\n",
    "    index += 1\n",
    "data['Player'].iloc[position]\n"
   ]
  },
  {
   "cell_type": "code",
   "execution_count": 152,
   "metadata": {},
   "outputs": [],
   "source": [
    "def findsimilar(data,searched_name):\n",
    "    letter_vector = [0]*26\n",
    "    for letter in searched_name.lower():\n",
    "        if ord(letter)<=96 or ord(letter)>= 123:\n",
    "            continue\n",
    "        position = ord(letter) - 96\n",
    "        if letter_vector[position-1] == 0:\n",
    "            letter_vector[position-1] = 1\n",
    "    total_letter_vector = []\n",
    "    for i in data['Player']:\n",
    "        vector = [0]*26\n",
    "        i = i.lower()\n",
    "        for j in i:\n",
    "            if ord(j) <= 96 or ord(j) >= 123:\n",
    "                continue\n",
    "            position = ord(j) - 96\n",
    "            if vector[position-1] == 0:\n",
    "                vector[position-1] = 1\n",
    "        total_letter_vector.append(vector)\n",
    "    min = 100\n",
    "    index = 0\n",
    "    position = 0\n",
    "    for i in total_letter_vector:\n",
    "        distance = np.linalg.norm(np.array(i) - np.array(letter_vector))\n",
    "        if distance < min:\n",
    "            min = distance\n",
    "            position = index\n",
    "        index += 1\n",
    "    return data['Player'].iloc[position]"
   ]
  },
  {
   "cell_type": "code",
   "execution_count": 154,
   "metadata": {},
   "outputs": [
    {
     "data": {
      "text/plain": [
       "'Mo Bamba'"
      ]
     },
     "execution_count": 154,
     "metadata": {},
     "output_type": "execute_result"
    }
   ],
   "source": [
    "findsimilar(data,'aa')"
   ]
  },
  {
   "cell_type": "code",
   "execution_count": 205,
   "metadata": {},
   "outputs": [
    {
     "data": {
      "text/plain": [
       "<AxesSubplot: title={'center': 'TRB of Precious Achiuwa'}>"
      ]
     },
     "execution_count": 205,
     "metadata": {},
     "output_type": "execute_result"
    },
    {
     "data": {
      "image/png": "[encoded data removed]",
      "text/plain": [
       "<Figure size 1000x500 with 3 Axes>"
      ]
     },
     "metadata": {},
     "output_type": "display_data"
    }
   ],
   "source": [
    "import matplotlib.pyplot as plt\n",
    "searched_name = 'Precious Achiuwa'\n",
    "regular = regular.reset_index(drop=True)\n",
    "fig, ax = plt.subplots(1, 3, figsize=(10,5))\n",
    "ax[0].set_title(f'PTS of {searched_name}')\n",
    "ax[1].set_title(f'AST of {searched_name}')\n",
    "ax[2].set_title(f'TRB of {searched_name}')\n",
    "PTS = regular[regular.Player == searched_name]['PTS'].mean()\n",
    "AST = regular[regular.Player == searched_name]['AST'].mean()\n",
    "TRB = regular[regular.Player == searched_name]['TRB'].mean()\n",
    "PTS_total_average = regular.PTS.mean()\n",
    "PTS_position_average = regular[regular['Pos'] == regular[regular.Player == searched_name]['Pos'].squeeze()]['PTS'].mean()  #find the average pts of the same position\n",
    "AST_total_average = regular.AST.mean()\n",
    "AST_position_average =  regular[regular['Pos'] == regular[regular.Player == searched_name]['Pos'].squeeze()]['AST'].mean()\n",
    "TRB_total_average = regular.TRB.mean()\n",
    "TRB_position_average = regular[regular['Pos'] == regular[regular.Player == searched_name]['Pos'].squeeze()]['TRB'].mean()\n",
    "PTS_pd = pd.Series([PTS,PTS_total_average,PTS_position_average],['Individual PTS','Average PTS in NBA','Average PTS at '+str( regular[regular.Player == searched_name]['Pos'].squeeze())])\n",
    "PTS_pd.plot.bar(ax=ax[0])\n",
    "AST_pd = pd.Series([AST,AST_total_average,AST_position_average],['Individual AST','Average AST in NBA','Average AST at '+str( regular[regular.Player == searched_name]['Pos'].squeeze())])\n",
    "AST_pd.plot.bar(ax=ax[1])\n",
    "TRB_pd = pd.Series([TRB,TRB_total_average,TRB_position_average],['Individual TRB','Average TRB in NBA','Average TRB at '+str( regular[regular.Player == searched_name]['Pos'].squeeze())])\n",
    "TRB_pd.plot.bar(ax=ax[2])"
   ]
  },
  {
   "cell_type": "code",
   "execution_count": 171,
   "metadata": {},
   "outputs": [
    {
     "data": {
      "text/plain": [
       "Rk\n",
       "1    True\n",
       "Name: Pos, dtype: bool"
      ]
     },
     "execution_count": 171,
     "metadata": {},
     "output_type": "execute_result"
    }
   ],
   "source": [
    "regular[regular.Player == searched_name]['Pos'] == 'C'"
   ]
  },
  {
   "cell_type": "code",
   "execution_count": 191,
   "metadata": {},
   "outputs": [],
   "source": [
    "PTS_position_average = regular[regular['Pos'] == regular[regular.Player == searched_name]['Pos'].squeeze()]['PTS'].mean()"
   ]
  },
  {
   "cell_type": "code",
   "execution_count": 189,
   "metadata": {},
   "outputs": [],
   "source": [
    "a=regular[regular.Player == searched_name]['Pos']"
   ]
  },
  {
   "cell_type": "code",
   "execution_count": 196,
   "metadata": {},
   "outputs": [
    {
     "data": {
      "text/plain": [
       "Individual AST        0    1.1\n",
       "Name: AST, dtype: float64\n",
       "Average AST in NBA                              1.808251\n",
       "Average AST at C                                1.179231\n",
       "dtype: object"
      ]
     },
     "execution_count": 196,
     "metadata": {},
     "output_type": "execute_result"
    }
   ],
   "source": [
    "AST_pd "
   ]
  },
  {
   "cell_type": "code",
   "execution_count": 194,
   "metadata": {},
   "outputs": [
    {
     "data": {
      "text/plain": [
       "'C'"
      ]
     },
     "execution_count": 194,
     "metadata": {},
     "output_type": "execute_result"
    }
   ],
   "source": [
    "regular[regular.Player == searched_name]['Pos'].squeeze()"
   ]
  },
  {
   "cell_type": "code",
   "execution_count": 270,
   "metadata": {},
   "outputs": [
    {
     "data": {
      "text/plain": [
       "<AxesSubplot: >"
      ]
     },
     "execution_count": 270,
     "metadata": {},
     "output_type": "execute_result"
    },
    {
     "data": {
      "image/png": "[encoded data removed]",
      "text/plain": [
       "<Figure size 640x480 with 1 Axes>"
      ]
     },
     "metadata": {},
     "output_type": "display_data"
    }
   ],
   "source": [
    "team = 'TOR'\n",
    "pd.Series(list(regular[regular['Tm'] == team]['PTS']),index=list(regular[regular['Tm'] == team]['Player'])).sort_values(ascending=False).plot.bar()"
   ]
  },
  {
   "cell_type": "code",
   "execution_count": 10,
   "metadata": {},
   "outputs": [
    {
     "data": {
      "text/plain": [
       "array(['TOR', 'MEM', 'MIA', 'BRK', 'TOT', 'NOP', 'UTA', 'MIL', 'CLE',\n",
       "       'IND', 'LAL', 'ORL', 'NYK', 'HOU', 'WAS', 'PHO', 'SAC', 'DET',\n",
       "       'CHO', 'CHI', 'ATL', 'DEN', 'PHI', 'SAS', 'LAC', 'OKC', 'MIN',\n",
       "       'DAL', 'GSW', 'POR', 'BOS'], dtype=object)"
      ]
     },
     "execution_count": 10,
     "metadata": {},
     "output_type": "execute_result"
    }
   ],
   "source": [
    "regular['Tm'].unique()"
   ]
  },
  {
   "cell_type": "code",
   "execution_count": 13,
   "metadata": {},
   "outputs": [
    {
     "data": {
      "text/plain": [
       "array(['TOR', 'MEM', 'MIA', 'BRK', 'NOP', 'UTA', 'MIL', 'CLE', 'IND',\n",
       "       'LAL', 'ORL', 'NYK', 'HOU', 'WAS', 'PHO', 'SAC', 'DET', 'CHO',\n",
       "       'CHI', 'ATL', 'DEN', 'PHI', 'SAS', 'LAC', 'OKC', 'MIN', 'DAL',\n",
       "       'GSW', 'POR', 'BOS'], dtype=object)"
      ]
     },
     "execution_count": 13,
     "metadata": {},
     "output_type": "execute_result"
    }
   ],
   "source": [
    "unique_team = regular['Tm'].unique()\n",
    "unique_team = np.delete(unique_team,np.where(unique_team == 'TOT'))\n",
    "unique_team"
   ]
  },
  {
   "cell_type": "code",
   "execution_count": null,
   "metadata": {},
   "outputs": [],
   "source": []
  }
 ],
 "metadata": {
  "kernelspec": {
   "display_name": "Python 3.9.13 ('ds')",
   "language": "python",
   "name": "python3"
  },
  "language_info": {
   "codemirror_mode": {
    "name": "ipython",
    "version": 3
   },
   "file_extension": ".py",
   "mimetype": "text/x-python",
   "name": "python",
   "nbconvert_exporter": "python",
   "pygments_lexer": "ipython3",
   "version": "3.9.13"
  },
  "orig_nbformat": 4,
  "vscode": {
   "interpreter": {
    "hash": "5d96ec2021b4d1baf9f7de3e387e2af31a3abdb02f4b47ecde35cccbfb41f2d6"
   }
  }
 },
 "nbformat": 4,
 "nbformat_minor": 2
}
